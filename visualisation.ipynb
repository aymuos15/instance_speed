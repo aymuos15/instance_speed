{
 "cells": [
  {
   "cell_type": "code",
   "execution_count": 22,
   "metadata": {},
   "outputs": [],
   "source": [
    "import nibabel as nib\n",
    "import numpy as np\n",
    "import matplotlib.pyplot as plt\n",
    "from matplotlib.patches import Patch\n",
    "import time\n",
    "import glob\n",
    "import torch\n",
    "import cc3d\n",
    "\n",
    "from panoptica import Panoptic_Evaluator\n",
    "from panoptica import MatchedInstancePair\n",
    "from panoptica import NaiveThresholdMatching\n",
    "from panoptica import MaximizeMergeMatching\n",
    "from panoptica import Metric\n",
    "from rich import print as pprint\n",
    "\n",
    "from brats import lesion_dice\n",
    "from soumya import lesion_dice_gpu\n",
    "from brats_optimised import lesion_dice_gpu as lesion_dice_cpu_optimised"
   ]
  },
  {
   "cell_type": "code",
   "execution_count": 25,
   "metadata": {},
   "outputs": [],
   "source": [
    "def plot(pred, gt_display):\n",
    "    fig, ax = plt.subplots(1, 3, figsize=(10, 5))\n",
    "    ax[0].imshow(pred[0, :, :], cmap='gray')\n",
    "    ax[0].set_title('Prediction')\n",
    "\n",
    "    ax[1].imshow(gt_display[0, :, :], cmap='gray')\n",
    "    ax[1].set_title('Ground Truth')\n",
    "\n",
    "    combined = pred + gt_display\n",
    "\n",
    "    ax[2].imshow(combined[0, :, :], cmap='rainbow')\n",
    "    ax[2].set_title('Overlay (Prediction + Ground Truth)')\n",
    "\n",
    "    legend_elements = [Patch(facecolor='purple', edgecolor='black', label='TN'),\n",
    "                    Patch(facecolor='turquoise', edgecolor='black', label='FP'),\n",
    "                    Patch(facecolor='yellow', edgecolor='black', label='FN'),\n",
    "                    Patch(facecolor='red', edgecolor='black', label='TP')]\n",
    "\n",
    "    ax[2].legend(handles=legend_elements, loc='upper left', bbox_to_anchor=(1.02, 1))\n",
    "\n",
    "    plt.show()\n",
    "\n",
    "def score(pred, gt):\n",
    "    cpu = lesion_dice(pred, gt)\n",
    "    gpu = lesion_dice_gpu(pred, gt)\n",
    "    gpu_optimised = lesion_dice_cpu_optimised(pred, gt)\n",
    "\n",
    "    print(f'CPU: {cpu}')\n",
    "    print(f'GPU: {gpu}')\n",
    "    print(f'GPU Optimised: {gpu_optimised}')\n",
    "\n",
    "def panop(pred, gt):\n",
    "\n",
    "    sample = MatchedInstancePair(prediction_arr=pred, reference_arr=gt)\n",
    "    evaluator = Panoptic_Evaluator(\n",
    "        expected_input=MatchedInstancePair,\n",
    "        decision_metric=Metric.IOU,\n",
    "        decision_threshold=0.1,\n",
    "    )\n",
    "    result, debug_data = evaluator.evaluate(sample)\n",
    "    pprint(f\"{result.pq_dsc=}\")"
   ]
  },
  {
   "cell_type": "code",
   "execution_count": 26,
   "metadata": {},
   "outputs": [
    {
     "data": {
      "image/png": "[encoded data removed]",
      "text/plain": [
       "<Figure size 1000x500 with 3 Axes>"
      ]
     },
     "metadata": {},
     "output_type": "display_data"
    },
    {
     "name": "stdout",
     "output_type": "stream",
     "text": [
      "CPU: 0.7068965517241379\n",
      "GPU: 0.7068965435028076\n",
      "GPU Optimised: 0.7068965517241379\n",
      "Panoptic: Start Evaluation\n",
      "-- Got MatchedInstancePair, will evaluate instances\n"
     ]
    },
    {
     "data": {
      "text/html": [
       "<pre style=\"white-space:pre;overflow-x:auto;line-height:normal;font-family:Menlo,'DejaVu Sans Mono',consolas,'Courier New',monospace\">result.<span style=\"color: #808000; text-decoration-color: #808000\">pq_dsc</span>=<span style=\"color: #008080; text-decoration-color: #008080; font-weight: bold\">0.7068965517241379</span>\n",
       "</pre>\n"
      ],
      "text/plain": [
       "result.\u001b[33mpq_dsc\u001b[0m=\u001b[1;36m0\u001b[0m\u001b[1;36m.7068965517241379\u001b[0m\n"
      ]
     },
     "metadata": {},
     "output_type": "display_data"
    }
   ],
   "source": [
    "pred = torch.zeros((10, 35, 35))\n",
    "gt   = torch.zeros((10, 35, 35))\n",
    "\n",
    "pred[0, 1:20, 1:20] = 1\n",
    "gt[0, 1:20, 1:20] = 1\n",
    "\n",
    "pred[0, 23:24, 23:25] = 1\n",
    "gt[0, 23:25, 23:26] = 1\n",
    "\n",
    "\n",
    "pred[0, 25:34, 5:10] = 1\n",
    "gt[0, 25:35, 5:15] = 1\n",
    "\n",
    "plot(pred, gt*2)\n",
    "\n",
    "score(pred, gt)\n",
    "\n",
    "pred = pred.numpy()\n",
    "gt = gt.numpy()\n",
    "pred = cc3d.connected_components(pred)\n",
    "gt = cc3d.connected_components(gt)\n",
    "#unsigned int32\n",
    "gt = gt.astype(np.uint32)\n",
    "pred = pred.astype(np.uint32)\n",
    "panop(pred, gt)"
   ]
  },
  {
   "cell_type": "code",
   "execution_count": null,
   "metadata": {},
   "outputs": [],
   "source": []
  }
 ],
 "metadata": {
  "kernelspec": {
   "display_name": "medicalmnist",
   "language": "python",
   "name": "python3"
  },
  "language_info": {
   "codemirror_mode": {
    "name": "ipython",
    "version": 3
   },
   "file_extension": ".py",
   "mimetype": "text/x-python",
   "name": "python",
   "nbconvert_exporter": "python",
   "pygments_lexer": "ipython3",
   "version": "3.12.2"
  }
 },
 "nbformat": 4,
 "nbformat_minor": 2
}
